{
  "cells": [
    {
      "cell_type": "markdown",
      "metadata": {
        "id": "view-in-github",
        "colab_type": "text"
      },
      "source": [
        "<a href=\"https://colab.research.google.com/github/AhmetA75/TASK7_ABCDEF/blob/main/TASK7_ABCDEF.ipynb\" target=\"_parent\"><img src=\"https://colab.research.google.com/assets/colab-badge.svg\" alt=\"Open In Colab\"/></a>"
      ]
    },
    {
      "cell_type": "code",
      "execution_count": 1,
      "metadata": {
        "collapsed": true,
        "id": "RTD5jYf1s-nl"
      },
      "outputs": [],
      "source": [
        "import pandas as pd\n",
        "from sklearn.preprocessing import OneHotEncoder\n",
        "import numpy as np\n",
        "from sklearn.preprocessing import Normalizer"
      ]
    },
    {
      "cell_type": "code",
      "execution_count": 2,
      "outputs": [
        {
          "output_type": "execute_result",
          "data": {
            "text/plain": [
              "   SEX  EDUC  MARISTAT  INDEPEND  RESIDENC  NACCFAM  ANYMEDS  SMOKYRS  \\\n",
              "0    2    18         1         1         1        1        1        0   \n",
              "1    1    11         1         1         1        1        1        0   \n",
              "2    2    16         1         1         1        1        1       10   \n",
              "3    1    14         1         1         1        0        1        0   \n",
              "4    1    16         1         1         2        0        1       50   \n",
              "5    1    12         6         1         1        1        1       20   \n",
              "6    1    16         1         1         1        1        1        0   \n",
              "7    2    18         1         2         1        0        1        0   \n",
              "8    2    16         1         1         1        1        1       20   \n",
              "9    2    18         1         1         1        0        1        0   \n",
              "\n",
              "   NACCTBI  DIABETES  ...   RSUPFR  RSUPFRM  RSUPPAR  RSUPPARM  RSUPTEM  \\\n",
              "0        0         0  ...  27.9038   2.2157  10.3481    1.7014  13.4250   \n",
              "1        0         0  ...  29.0600   2.6900   9.2500    1.6300  14.8800   \n",
              "2        0         1  ...  33.0000   2.5400  13.6900    1.5600  16.2300   \n",
              "3        0         1  ...  31.6800   2.4100   9.6400    1.4500  15.1100   \n",
              "4        0         0  ...  28.0631   1.9501   9.1125    1.0427  13.3763   \n",
              "5        0         0  ...  29.9600   2.7200  11.7000    1.5000  16.7300   \n",
              "6        0         0  ...  24.6500   2.1400  11.0600    1.5400  11.3300   \n",
              "7        0         0  ...  23.1000   2.3400  13.5100    1.6900  13.4900   \n",
              "8        0         0  ...  23.6300   2.6200   9.7400    1.9000   9.6500   \n",
              "9        0         0  ...  25.1637   2.3796  14.1306    1.6671  13.5698   \n",
              "\n",
              "   RSUPTEMM  RSUPMAR  RSUPMARM  RTRTEM  RTRTEMM  \n",
              "0    1.7419   9.8700    1.6792  0.8906   1.1947  \n",
              "1    2.3000   7.2700    1.8900  1.3800   2.0300  \n",
              "2    2.0700  10.1100    1.8400  1.0100   1.5000  \n",
              "3    1.6400  10.3900    1.8300  0.7400   1.1000  \n",
              "4    1.6270   7.5844    1.4595  0.6638   0.8527  \n",
              "5    2.1500   8.8800    1.7800  0.6600   1.1000  \n",
              "6    1.5600   7.8800    1.9100  0.5800   0.8800  \n",
              "7    2.3700   9.5300    1.8700  0.8800   1.4600  \n",
              "8    1.7800   9.3700    2.0400  0.6200   1.6500  \n",
              "9    2.3649  10.4055    1.9661  0.8163   1.6182  \n",
              "\n",
              "[10 rows x 186 columns]"
            ],
            "text/html": [
              "\n",
              "  <div id=\"df-b2c1bb76-58cc-44f5-801a-5449807a1372\">\n",
              "    <div class=\"colab-df-container\">\n",
              "      <div>\n",
              "<style scoped>\n",
              "    .dataframe tbody tr th:only-of-type {\n",
              "        vertical-align: middle;\n",
              "    }\n",
              "\n",
              "    .dataframe tbody tr th {\n",
              "        vertical-align: top;\n",
              "    }\n",
              "\n",
              "    .dataframe thead th {\n",
              "        text-align: right;\n",
              "    }\n",
              "</style>\n",
              "<table border=\"1\" class=\"dataframe\">\n",
              "  <thead>\n",
              "    <tr style=\"text-align: right;\">\n",
              "      <th></th>\n",
              "      <th>SEX</th>\n",
              "      <th>EDUC</th>\n",
              "      <th>MARISTAT</th>\n",
              "      <th>INDEPEND</th>\n",
              "      <th>RESIDENC</th>\n",
              "      <th>NACCFAM</th>\n",
              "      <th>ANYMEDS</th>\n",
              "      <th>SMOKYRS</th>\n",
              "      <th>NACCTBI</th>\n",
              "      <th>DIABETES</th>\n",
              "      <th>...</th>\n",
              "      <th>RSUPFR</th>\n",
              "      <th>RSUPFRM</th>\n",
              "      <th>RSUPPAR</th>\n",
              "      <th>RSUPPARM</th>\n",
              "      <th>RSUPTEM</th>\n",
              "      <th>RSUPTEMM</th>\n",
              "      <th>RSUPMAR</th>\n",
              "      <th>RSUPMARM</th>\n",
              "      <th>RTRTEM</th>\n",
              "      <th>RTRTEMM</th>\n",
              "    </tr>\n",
              "  </thead>\n",
              "  <tbody>\n",
              "    <tr>\n",
              "      <th>0</th>\n",
              "      <td>2</td>\n",
              "      <td>18</td>\n",
              "      <td>1</td>\n",
              "      <td>1</td>\n",
              "      <td>1</td>\n",
              "      <td>1</td>\n",
              "      <td>1</td>\n",
              "      <td>0</td>\n",
              "      <td>0</td>\n",
              "      <td>0</td>\n",
              "      <td>...</td>\n",
              "      <td>27.9038</td>\n",
              "      <td>2.2157</td>\n",
              "      <td>10.3481</td>\n",
              "      <td>1.7014</td>\n",
              "      <td>13.4250</td>\n",
              "      <td>1.7419</td>\n",
              "      <td>9.8700</td>\n",
              "      <td>1.6792</td>\n",
              "      <td>0.8906</td>\n",
              "      <td>1.1947</td>\n",
              "    </tr>\n",
              "    <tr>\n",
              "      <th>1</th>\n",
              "      <td>1</td>\n",
              "      <td>11</td>\n",
              "      <td>1</td>\n",
              "      <td>1</td>\n",
              "      <td>1</td>\n",
              "      <td>1</td>\n",
              "      <td>1</td>\n",
              "      <td>0</td>\n",
              "      <td>0</td>\n",
              "      <td>0</td>\n",
              "      <td>...</td>\n",
              "      <td>29.0600</td>\n",
              "      <td>2.6900</td>\n",
              "      <td>9.2500</td>\n",
              "      <td>1.6300</td>\n",
              "      <td>14.8800</td>\n",
              "      <td>2.3000</td>\n",
              "      <td>7.2700</td>\n",
              "      <td>1.8900</td>\n",
              "      <td>1.3800</td>\n",
              "      <td>2.0300</td>\n",
              "    </tr>\n",
              "    <tr>\n",
              "      <th>2</th>\n",
              "      <td>2</td>\n",
              "      <td>16</td>\n",
              "      <td>1</td>\n",
              "      <td>1</td>\n",
              "      <td>1</td>\n",
              "      <td>1</td>\n",
              "      <td>1</td>\n",
              "      <td>10</td>\n",
              "      <td>0</td>\n",
              "      <td>1</td>\n",
              "      <td>...</td>\n",
              "      <td>33.0000</td>\n",
              "      <td>2.5400</td>\n",
              "      <td>13.6900</td>\n",
              "      <td>1.5600</td>\n",
              "      <td>16.2300</td>\n",
              "      <td>2.0700</td>\n",
              "      <td>10.1100</td>\n",
              "      <td>1.8400</td>\n",
              "      <td>1.0100</td>\n",
              "      <td>1.5000</td>\n",
              "    </tr>\n",
              "    <tr>\n",
              "      <th>3</th>\n",
              "      <td>1</td>\n",
              "      <td>14</td>\n",
              "      <td>1</td>\n",
              "      <td>1</td>\n",
              "      <td>1</td>\n",
              "      <td>0</td>\n",
              "      <td>1</td>\n",
              "      <td>0</td>\n",
              "      <td>0</td>\n",
              "      <td>1</td>\n",
              "      <td>...</td>\n",
              "      <td>31.6800</td>\n",
              "      <td>2.4100</td>\n",
              "      <td>9.6400</td>\n",
              "      <td>1.4500</td>\n",
              "      <td>15.1100</td>\n",
              "      <td>1.6400</td>\n",
              "      <td>10.3900</td>\n",
              "      <td>1.8300</td>\n",
              "      <td>0.7400</td>\n",
              "      <td>1.1000</td>\n",
              "    </tr>\n",
              "    <tr>\n",
              "      <th>4</th>\n",
              "      <td>1</td>\n",
              "      <td>16</td>\n",
              "      <td>1</td>\n",
              "      <td>1</td>\n",
              "      <td>2</td>\n",
              "      <td>0</td>\n",
              "      <td>1</td>\n",
              "      <td>50</td>\n",
              "      <td>0</td>\n",
              "      <td>0</td>\n",
              "      <td>...</td>\n",
              "      <td>28.0631</td>\n",
              "      <td>1.9501</td>\n",
              "      <td>9.1125</td>\n",
              "      <td>1.0427</td>\n",
              "      <td>13.3763</td>\n",
              "      <td>1.6270</td>\n",
              "      <td>7.5844</td>\n",
              "      <td>1.4595</td>\n",
              "      <td>0.6638</td>\n",
              "      <td>0.8527</td>\n",
              "    </tr>\n",
              "    <tr>\n",
              "      <th>5</th>\n",
              "      <td>1</td>\n",
              "      <td>12</td>\n",
              "      <td>6</td>\n",
              "      <td>1</td>\n",
              "      <td>1</td>\n",
              "      <td>1</td>\n",
              "      <td>1</td>\n",
              "      <td>20</td>\n",
              "      <td>0</td>\n",
              "      <td>0</td>\n",
              "      <td>...</td>\n",
              "      <td>29.9600</td>\n",
              "      <td>2.7200</td>\n",
              "      <td>11.7000</td>\n",
              "      <td>1.5000</td>\n",
              "      <td>16.7300</td>\n",
              "      <td>2.1500</td>\n",
              "      <td>8.8800</td>\n",
              "      <td>1.7800</td>\n",
              "      <td>0.6600</td>\n",
              "      <td>1.1000</td>\n",
              "    </tr>\n",
              "    <tr>\n",
              "      <th>6</th>\n",
              "      <td>1</td>\n",
              "      <td>16</td>\n",
              "      <td>1</td>\n",
              "      <td>1</td>\n",
              "      <td>1</td>\n",
              "      <td>1</td>\n",
              "      <td>1</td>\n",
              "      <td>0</td>\n",
              "      <td>0</td>\n",
              "      <td>0</td>\n",
              "      <td>...</td>\n",
              "      <td>24.6500</td>\n",
              "      <td>2.1400</td>\n",
              "      <td>11.0600</td>\n",
              "      <td>1.5400</td>\n",
              "      <td>11.3300</td>\n",
              "      <td>1.5600</td>\n",
              "      <td>7.8800</td>\n",
              "      <td>1.9100</td>\n",
              "      <td>0.5800</td>\n",
              "      <td>0.8800</td>\n",
              "    </tr>\n",
              "    <tr>\n",
              "      <th>7</th>\n",
              "      <td>2</td>\n",
              "      <td>18</td>\n",
              "      <td>1</td>\n",
              "      <td>2</td>\n",
              "      <td>1</td>\n",
              "      <td>0</td>\n",
              "      <td>1</td>\n",
              "      <td>0</td>\n",
              "      <td>0</td>\n",
              "      <td>0</td>\n",
              "      <td>...</td>\n",
              "      <td>23.1000</td>\n",
              "      <td>2.3400</td>\n",
              "      <td>13.5100</td>\n",
              "      <td>1.6900</td>\n",
              "      <td>13.4900</td>\n",
              "      <td>2.3700</td>\n",
              "      <td>9.5300</td>\n",
              "      <td>1.8700</td>\n",
              "      <td>0.8800</td>\n",
              "      <td>1.4600</td>\n",
              "    </tr>\n",
              "    <tr>\n",
              "      <th>8</th>\n",
              "      <td>2</td>\n",
              "      <td>16</td>\n",
              "      <td>1</td>\n",
              "      <td>1</td>\n",
              "      <td>1</td>\n",
              "      <td>1</td>\n",
              "      <td>1</td>\n",
              "      <td>20</td>\n",
              "      <td>0</td>\n",
              "      <td>0</td>\n",
              "      <td>...</td>\n",
              "      <td>23.6300</td>\n",
              "      <td>2.6200</td>\n",
              "      <td>9.7400</td>\n",
              "      <td>1.9000</td>\n",
              "      <td>9.6500</td>\n",
              "      <td>1.7800</td>\n",
              "      <td>9.3700</td>\n",
              "      <td>2.0400</td>\n",
              "      <td>0.6200</td>\n",
              "      <td>1.6500</td>\n",
              "    </tr>\n",
              "    <tr>\n",
              "      <th>9</th>\n",
              "      <td>2</td>\n",
              "      <td>18</td>\n",
              "      <td>1</td>\n",
              "      <td>1</td>\n",
              "      <td>1</td>\n",
              "      <td>0</td>\n",
              "      <td>1</td>\n",
              "      <td>0</td>\n",
              "      <td>0</td>\n",
              "      <td>0</td>\n",
              "      <td>...</td>\n",
              "      <td>25.1637</td>\n",
              "      <td>2.3796</td>\n",
              "      <td>14.1306</td>\n",
              "      <td>1.6671</td>\n",
              "      <td>13.5698</td>\n",
              "      <td>2.3649</td>\n",
              "      <td>10.4055</td>\n",
              "      <td>1.9661</td>\n",
              "      <td>0.8163</td>\n",
              "      <td>1.6182</td>\n",
              "    </tr>\n",
              "  </tbody>\n",
              "</table>\n",
              "<p>10 rows × 186 columns</p>\n",
              "</div>\n",
              "      <button class=\"colab-df-convert\" onclick=\"convertToInteractive('df-b2c1bb76-58cc-44f5-801a-5449807a1372')\"\n",
              "              title=\"Convert this dataframe to an interactive table.\"\n",
              "              style=\"display:none;\">\n",
              "        \n",
              "  <svg xmlns=\"http://www.w3.org/2000/svg\" height=\"24px\"viewBox=\"0 0 24 24\"\n",
              "       width=\"24px\">\n",
              "    <path d=\"M0 0h24v24H0V0z\" fill=\"none\"/>\n",
              "    <path d=\"M18.56 5.44l.94 2.06.94-2.06 2.06-.94-2.06-.94-.94-2.06-.94 2.06-2.06.94zm-11 1L8.5 8.5l.94-2.06 2.06-.94-2.06-.94L8.5 2.5l-.94 2.06-2.06.94zm10 10l.94 2.06.94-2.06 2.06-.94-2.06-.94-.94-2.06-.94 2.06-2.06.94z\"/><path d=\"M17.41 7.96l-1.37-1.37c-.4-.4-.92-.59-1.43-.59-.52 0-1.04.2-1.43.59L10.3 9.45l-7.72 7.72c-.78.78-.78 2.05 0 2.83L4 21.41c.39.39.9.59 1.41.59.51 0 1.02-.2 1.41-.59l7.78-7.78 2.81-2.81c.8-.78.8-2.07 0-2.86zM5.41 20L4 18.59l7.72-7.72 1.47 1.35L5.41 20z\"/>\n",
              "  </svg>\n",
              "      </button>\n",
              "      \n",
              "  <style>\n",
              "    .colab-df-container {\n",
              "      display:flex;\n",
              "      flex-wrap:wrap;\n",
              "      gap: 12px;\n",
              "    }\n",
              "\n",
              "    .colab-df-convert {\n",
              "      background-color: #E8F0FE;\n",
              "      border: none;\n",
              "      border-radius: 50%;\n",
              "      cursor: pointer;\n",
              "      display: none;\n",
              "      fill: #1967D2;\n",
              "      height: 32px;\n",
              "      padding: 0 0 0 0;\n",
              "      width: 32px;\n",
              "    }\n",
              "\n",
              "    .colab-df-convert:hover {\n",
              "      background-color: #E2EBFA;\n",
              "      box-shadow: 0px 1px 2px rgba(60, 64, 67, 0.3), 0px 1px 3px 1px rgba(60, 64, 67, 0.15);\n",
              "      fill: #174EA6;\n",
              "    }\n",
              "\n",
              "    [theme=dark] .colab-df-convert {\n",
              "      background-color: #3B4455;\n",
              "      fill: #D2E3FC;\n",
              "    }\n",
              "\n",
              "    [theme=dark] .colab-df-convert:hover {\n",
              "      background-color: #434B5C;\n",
              "      box-shadow: 0px 1px 3px 1px rgba(0, 0, 0, 0.15);\n",
              "      filter: drop-shadow(0px 1px 2px rgba(0, 0, 0, 0.3));\n",
              "      fill: #FFFFFF;\n",
              "    }\n",
              "  </style>\n",
              "\n",
              "      <script>\n",
              "        const buttonEl =\n",
              "          document.querySelector('#df-b2c1bb76-58cc-44f5-801a-5449807a1372 button.colab-df-convert');\n",
              "        buttonEl.style.display =\n",
              "          google.colab.kernel.accessAllowed ? 'block' : 'none';\n",
              "\n",
              "        async function convertToInteractive(key) {\n",
              "          const element = document.querySelector('#df-b2c1bb76-58cc-44f5-801a-5449807a1372');\n",
              "          const dataTable =\n",
              "            await google.colab.kernel.invokeFunction('convertToInteractive',\n",
              "                                                     [key], {});\n",
              "          if (!dataTable) return;\n",
              "\n",
              "          const docLinkHtml = 'Like what you see? Visit the ' +\n",
              "            '<a target=\"_blank\" href=https://colab.research.google.com/notebooks/data_table.ipynb>data table notebook</a>'\n",
              "            + ' to learn more about interactive tables.';\n",
              "          element.innerHTML = '';\n",
              "          dataTable['output_type'] = 'display_data';\n",
              "          await google.colab.output.renderOutput(dataTable, element);\n",
              "          const docLink = document.createElement('div');\n",
              "          docLink.innerHTML = docLinkHtml;\n",
              "          element.appendChild(docLink);\n",
              "        }\n",
              "      </script>\n",
              "    </div>\n",
              "  </div>\n",
              "  "
            ]
          },
          "metadata": {},
          "execution_count": 2
        }
      ],
      "source": [
        "df = pd.read_excel('Temporary_data3_Left_Right_Copy.xlsx')\n",
        "df.head(10)"
      ],
      "metadata": {
        "colab": {
          "base_uri": "https://localhost:8080/",
          "height": 456
        },
        "id": "ctuRZIccs-nt",
        "outputId": "11279bdb-4ee6-455a-ec82-6426b35d1b4e"
      }
    },
    {
      "cell_type": "markdown",
      "source": [
        "TASK 7A"
      ],
      "metadata": {
        "collapsed": false,
        "id": "F9uQ1_xAs-nw"
      }
    },
    {
      "cell_type": "code",
      "execution_count": 3,
      "outputs": [
        {
          "output_type": "execute_result",
          "data": {
            "text/plain": [
              "1    1013\n",
              "2     263\n",
              "3      69\n",
              "4       9\n",
              "Name: INDEPEND, dtype: int64"
            ]
          },
          "metadata": {},
          "execution_count": 3
        }
      ],
      "source": [
        "df[\"ALCOHOL\"].value_counts()\n",
        "df[\"DIABETES\"].value_counts()\n",
        "df[\"INDEPEND\"].value_counts()"
      ],
      "metadata": {
        "colab": {
          "base_uri": "https://localhost:8080/"
        },
        "id": "k8S-eLups-n7",
        "outputId": "44c9b3a0-e7b0-4c86-b1d9-8066521370ce"
      }
    },
    {
      "cell_type": "code",
      "execution_count": 4,
      "outputs": [],
      "source": [
        "encoder = OneHotEncoder(handle_unknown='ignore')"
      ],
      "metadata": {
        "id": "L2QEw1ens-oA"
      }
    },
    {
      "cell_type": "code",
      "execution_count": 5,
      "outputs": [
        {
          "output_type": "execute_result",
          "data": {
            "text/plain": [
              "     0    1    2    3\n",
              "0  1.0  0.0  0.0  0.0\n",
              "1  1.0  0.0  0.0  0.0\n",
              "2  1.0  0.0  0.0  0.0\n",
              "3  1.0  0.0  0.0  0.0\n",
              "4  1.0  0.0  0.0  0.0"
            ],
            "text/html": [
              "\n",
              "  <div id=\"df-50e4f370-febc-4556-993f-21b14a288ab5\">\n",
              "    <div class=\"colab-df-container\">\n",
              "      <div>\n",
              "<style scoped>\n",
              "    .dataframe tbody tr th:only-of-type {\n",
              "        vertical-align: middle;\n",
              "    }\n",
              "\n",
              "    .dataframe tbody tr th {\n",
              "        vertical-align: top;\n",
              "    }\n",
              "\n",
              "    .dataframe thead th {\n",
              "        text-align: right;\n",
              "    }\n",
              "</style>\n",
              "<table border=\"1\" class=\"dataframe\">\n",
              "  <thead>\n",
              "    <tr style=\"text-align: right;\">\n",
              "      <th></th>\n",
              "      <th>0</th>\n",
              "      <th>1</th>\n",
              "      <th>2</th>\n",
              "      <th>3</th>\n",
              "    </tr>\n",
              "  </thead>\n",
              "  <tbody>\n",
              "    <tr>\n",
              "      <th>0</th>\n",
              "      <td>1.0</td>\n",
              "      <td>0.0</td>\n",
              "      <td>0.0</td>\n",
              "      <td>0.0</td>\n",
              "    </tr>\n",
              "    <tr>\n",
              "      <th>1</th>\n",
              "      <td>1.0</td>\n",
              "      <td>0.0</td>\n",
              "      <td>0.0</td>\n",
              "      <td>0.0</td>\n",
              "    </tr>\n",
              "    <tr>\n",
              "      <th>2</th>\n",
              "      <td>1.0</td>\n",
              "      <td>0.0</td>\n",
              "      <td>0.0</td>\n",
              "      <td>0.0</td>\n",
              "    </tr>\n",
              "    <tr>\n",
              "      <th>3</th>\n",
              "      <td>1.0</td>\n",
              "      <td>0.0</td>\n",
              "      <td>0.0</td>\n",
              "      <td>0.0</td>\n",
              "    </tr>\n",
              "    <tr>\n",
              "      <th>4</th>\n",
              "      <td>1.0</td>\n",
              "      <td>0.0</td>\n",
              "      <td>0.0</td>\n",
              "      <td>0.0</td>\n",
              "    </tr>\n",
              "  </tbody>\n",
              "</table>\n",
              "</div>\n",
              "      <button class=\"colab-df-convert\" onclick=\"convertToInteractive('df-50e4f370-febc-4556-993f-21b14a288ab5')\"\n",
              "              title=\"Convert this dataframe to an interactive table.\"\n",
              "              style=\"display:none;\">\n",
              "        \n",
              "  <svg xmlns=\"http://www.w3.org/2000/svg\" height=\"24px\"viewBox=\"0 0 24 24\"\n",
              "       width=\"24px\">\n",
              "    <path d=\"M0 0h24v24H0V0z\" fill=\"none\"/>\n",
              "    <path d=\"M18.56 5.44l.94 2.06.94-2.06 2.06-.94-2.06-.94-.94-2.06-.94 2.06-2.06.94zm-11 1L8.5 8.5l.94-2.06 2.06-.94-2.06-.94L8.5 2.5l-.94 2.06-2.06.94zm10 10l.94 2.06.94-2.06 2.06-.94-2.06-.94-.94-2.06-.94 2.06-2.06.94z\"/><path d=\"M17.41 7.96l-1.37-1.37c-.4-.4-.92-.59-1.43-.59-.52 0-1.04.2-1.43.59L10.3 9.45l-7.72 7.72c-.78.78-.78 2.05 0 2.83L4 21.41c.39.39.9.59 1.41.59.51 0 1.02-.2 1.41-.59l7.78-7.78 2.81-2.81c.8-.78.8-2.07 0-2.86zM5.41 20L4 18.59l7.72-7.72 1.47 1.35L5.41 20z\"/>\n",
              "  </svg>\n",
              "      </button>\n",
              "      \n",
              "  <style>\n",
              "    .colab-df-container {\n",
              "      display:flex;\n",
              "      flex-wrap:wrap;\n",
              "      gap: 12px;\n",
              "    }\n",
              "\n",
              "    .colab-df-convert {\n",
              "      background-color: #E8F0FE;\n",
              "      border: none;\n",
              "      border-radius: 50%;\n",
              "      cursor: pointer;\n",
              "      display: none;\n",
              "      fill: #1967D2;\n",
              "      height: 32px;\n",
              "      padding: 0 0 0 0;\n",
              "      width: 32px;\n",
              "    }\n",
              "\n",
              "    .colab-df-convert:hover {\n",
              "      background-color: #E2EBFA;\n",
              "      box-shadow: 0px 1px 2px rgba(60, 64, 67, 0.3), 0px 1px 3px 1px rgba(60, 64, 67, 0.15);\n",
              "      fill: #174EA6;\n",
              "    }\n",
              "\n",
              "    [theme=dark] .colab-df-convert {\n",
              "      background-color: #3B4455;\n",
              "      fill: #D2E3FC;\n",
              "    }\n",
              "\n",
              "    [theme=dark] .colab-df-convert:hover {\n",
              "      background-color: #434B5C;\n",
              "      box-shadow: 0px 1px 3px 1px rgba(0, 0, 0, 0.15);\n",
              "      filter: drop-shadow(0px 1px 2px rgba(0, 0, 0, 0.3));\n",
              "      fill: #FFFFFF;\n",
              "    }\n",
              "  </style>\n",
              "\n",
              "      <script>\n",
              "        const buttonEl =\n",
              "          document.querySelector('#df-50e4f370-febc-4556-993f-21b14a288ab5 button.colab-df-convert');\n",
              "        buttonEl.style.display =\n",
              "          google.colab.kernel.accessAllowed ? 'block' : 'none';\n",
              "\n",
              "        async function convertToInteractive(key) {\n",
              "          const element = document.querySelector('#df-50e4f370-febc-4556-993f-21b14a288ab5');\n",
              "          const dataTable =\n",
              "            await google.colab.kernel.invokeFunction('convertToInteractive',\n",
              "                                                     [key], {});\n",
              "          if (!dataTable) return;\n",
              "\n",
              "          const docLinkHtml = 'Like what you see? Visit the ' +\n",
              "            '<a target=\"_blank\" href=https://colab.research.google.com/notebooks/data_table.ipynb>data table notebook</a>'\n",
              "            + ' to learn more about interactive tables.';\n",
              "          element.innerHTML = '';\n",
              "          dataTable['output_type'] = 'display_data';\n",
              "          await google.colab.output.renderOutput(dataTable, element);\n",
              "          const docLink = document.createElement('div');\n",
              "          docLink.innerHTML = docLinkHtml;\n",
              "          element.appendChild(docLink);\n",
              "        }\n",
              "      </script>\n",
              "    </div>\n",
              "  </div>\n",
              "  "
            ]
          },
          "metadata": {},
          "execution_count": 5
        }
      ],
      "source": [
        "encoded_df = pd.DataFrame(encoder.fit_transform(df[['INDEPEND']]).toarray())\n",
        "encoded_df.head()"
      ],
      "metadata": {
        "colab": {
          "base_uri": "https://localhost:8080/",
          "height": 206
        },
        "id": "TuQxnlsCs-oE",
        "outputId": "b74305db-655d-49ad-ff65-b557f27abf09"
      }
    },
    {
      "cell_type": "code",
      "execution_count": 6,
      "outputs": [],
      "source": [
        "last_df = df.join(encoded_df)\n",
        "last_df = last_df[[0, 1, 2, 3]]\n",
        "last_df.columns = [\"independ_1\", \"independ_2\", \"independ_3\", \"independ_4\"]"
      ],
      "metadata": {
        "id": "iVMW4oaLs-oK"
      }
    },
    {
      "cell_type": "code",
      "execution_count": null,
      "outputs": [
        {
          "data": {
            "text/plain": "      independ_1  independ_2  independ_3  independ_4\n0            1.0         0.0         0.0         0.0\n1            1.0         0.0         0.0         0.0\n2            1.0         0.0         0.0         0.0\n3            1.0         0.0         0.0         0.0\n4            1.0         0.0         0.0         0.0\n...          ...         ...         ...         ...\n1349         1.0         0.0         0.0         0.0\n1350         0.0         1.0         0.0         0.0\n1351         1.0         0.0         0.0         0.0\n1352         1.0         0.0         0.0         0.0\n1353         1.0         0.0         0.0         0.0\n\n[1354 rows x 4 columns]",
            "text/html": "<div>\n<style scoped>\n    .dataframe tbody tr th:only-of-type {\n        vertical-align: middle;\n    }\n\n    .dataframe tbody tr th {\n        vertical-align: top;\n    }\n\n    .dataframe thead th {\n        text-align: right;\n    }\n</style>\n<table border=\"1\" class=\"dataframe\">\n  <thead>\n    <tr style=\"text-align: right;\">\n      <th></th>\n      <th>independ_1</th>\n      <th>independ_2</th>\n      <th>independ_3</th>\n      <th>independ_4</th>\n    </tr>\n  </thead>\n  <tbody>\n    <tr>\n      <th>0</th>\n      <td>1.0</td>\n      <td>0.0</td>\n      <td>0.0</td>\n      <td>0.0</td>\n    </tr>\n    <tr>\n      <th>1</th>\n      <td>1.0</td>\n      <td>0.0</td>\n      <td>0.0</td>\n      <td>0.0</td>\n    </tr>\n    <tr>\n      <th>2</th>\n      <td>1.0</td>\n      <td>0.0</td>\n      <td>0.0</td>\n      <td>0.0</td>\n    </tr>\n    <tr>\n      <th>3</th>\n      <td>1.0</td>\n      <td>0.0</td>\n      <td>0.0</td>\n      <td>0.0</td>\n    </tr>\n    <tr>\n      <th>4</th>\n      <td>1.0</td>\n      <td>0.0</td>\n      <td>0.0</td>\n      <td>0.0</td>\n    </tr>\n    <tr>\n      <th>...</th>\n      <td>...</td>\n      <td>...</td>\n      <td>...</td>\n      <td>...</td>\n    </tr>\n    <tr>\n      <th>1349</th>\n      <td>1.0</td>\n      <td>0.0</td>\n      <td>0.0</td>\n      <td>0.0</td>\n    </tr>\n    <tr>\n      <th>1350</th>\n      <td>0.0</td>\n      <td>1.0</td>\n      <td>0.0</td>\n      <td>0.0</td>\n    </tr>\n    <tr>\n      <th>1351</th>\n      <td>1.0</td>\n      <td>0.0</td>\n      <td>0.0</td>\n      <td>0.0</td>\n    </tr>\n    <tr>\n      <th>1352</th>\n      <td>1.0</td>\n      <td>0.0</td>\n      <td>0.0</td>\n      <td>0.0</td>\n    </tr>\n    <tr>\n      <th>1353</th>\n      <td>1.0</td>\n      <td>0.0</td>\n      <td>0.0</td>\n      <td>0.0</td>\n    </tr>\n  </tbody>\n</table>\n<p>1354 rows × 4 columns</p>\n</div>"
          },
          "execution_count": 36,
          "metadata": {},
          "output_type": "execute_result"
        }
      ],
      "source": [
        "'''\n",
        "With the one-hot encoding method, a value of 0 or 1 is assigned for the index in each row, instead of a selected categorical feature.\n",
        "Different values of the selected feature are assigned to the columns, so it is easier to find which group a record belongs to according to the selected feature.\n",
        "'''\n",
        "last_df"
      ],
      "metadata": {
        "id": "yXcbzLcts-oN",
        "outputId": "41150026-f303-4960-f81c-b5bd54be4f1b"
      }
    },
    {
      "cell_type": "markdown",
      "source": [
        "TASK 7B"
      ],
      "metadata": {
        "collapsed": false,
        "id": "__1ceXhEs-oQ"
      }
    },
    {
      "cell_type": "code",
      "execution_count": null,
      "outputs": [],
      "source": [
        "pivot_1 = pd.pivot_table(data=df, values='CDRGLOB', index=['INDEPEND', 'ANYMEDS'], columns=['SEX'], aggfunc=np.mean, fill_value=0)"
      ],
      "metadata": {
        "id": "26jV2Lv9s-oR"
      }
    },
    {
      "cell_type": "code",
      "execution_count": null,
      "outputs": [
        {
          "data": {
            "text/plain": "SEX                      1         2\nINDEPEND ANYMEDS                    \n1        0        0.347826  0.424242\n         1        0.531915  0.323580\n2        0        1.500000  1.400000\n         1        1.503650  1.361345\n3        0        3.000000  0.000000\n         1        2.272727  2.171429\n4        1        3.000000  2.500000",
            "text/html": "<div>\n<style scoped>\n    .dataframe tbody tr th:only-of-type {\n        vertical-align: middle;\n    }\n\n    .dataframe tbody tr th {\n        vertical-align: top;\n    }\n\n    .dataframe thead th {\n        text-align: right;\n    }\n</style>\n<table border=\"1\" class=\"dataframe\">\n  <thead>\n    <tr style=\"text-align: right;\">\n      <th></th>\n      <th>SEX</th>\n      <th>1</th>\n      <th>2</th>\n    </tr>\n    <tr>\n      <th>INDEPEND</th>\n      <th>ANYMEDS</th>\n      <th></th>\n      <th></th>\n    </tr>\n  </thead>\n  <tbody>\n    <tr>\n      <th rowspan=\"2\" valign=\"top\">1</th>\n      <th>0</th>\n      <td>0.347826</td>\n      <td>0.424242</td>\n    </tr>\n    <tr>\n      <th>1</th>\n      <td>0.531915</td>\n      <td>0.323580</td>\n    </tr>\n    <tr>\n      <th rowspan=\"2\" valign=\"top\">2</th>\n      <th>0</th>\n      <td>1.500000</td>\n      <td>1.400000</td>\n    </tr>\n    <tr>\n      <th>1</th>\n      <td>1.503650</td>\n      <td>1.361345</td>\n    </tr>\n    <tr>\n      <th rowspan=\"2\" valign=\"top\">3</th>\n      <th>0</th>\n      <td>3.000000</td>\n      <td>0.000000</td>\n    </tr>\n    <tr>\n      <th>1</th>\n      <td>2.272727</td>\n      <td>2.171429</td>\n    </tr>\n    <tr>\n      <th>4</th>\n      <th>1</th>\n      <td>3.000000</td>\n      <td>2.500000</td>\n    </tr>\n  </tbody>\n</table>\n</div>"
          },
          "execution_count": 38,
          "metadata": {},
          "output_type": "execute_result"
        }
      ],
      "source": [
        "'''\n",
        "Create pivot table to get relation between CDRGLOB and SEX feature.\n",
        "Use INDEPEND and ANYMEDS columns to obtain multidimensional analysis.\n",
        "Interpreting the result: while INDEPEND is 2 and ANYMEDS is 0 or 1, average CDRGLOB value is 1.50 (close to >> 2), if SEX is 1. We can understand that:\n",
        "SEX is determinative feature.\n",
        "'''\n",
        "pivot_1"
      ],
      "metadata": {
        "id": "zOyzVZEWs-oS",
        "outputId": "1c6c42b9-462b-4f0f-c295-7d16fe256d5e"
      }
    },
    {
      "cell_type": "code",
      "execution_count": null,
      "outputs": [],
      "source": [
        "pivot_2 = pd.pivot_table(data=df, values='CDRGLOB', index=['NACCFAM', 'INDEPEND', 'APA'], columns=['SEX'], aggfunc=np.mean, fill_value=0)"
      ],
      "metadata": {
        "id": "CFq5AS9is-oU"
      }
    },
    {
      "cell_type": "code",
      "execution_count": null,
      "outputs": [
        {
          "data": {
            "text/plain": "SEX                          1         2\nNACCFAM INDEPEND APA                    \n0       1        0    0.451128  0.328502\n                 1    1.250000  0.909091\n        2        0    1.458333  1.138889\n                 1    1.500000  1.615385\n        3        0    2.250000  2.187500\n                 1    2.363636  2.000000\n        4        0    3.000000  3.000000\n                 1    0.000000  3.000000\n1       1        0    0.427273  0.266304\n                 1    1.133333  0.928571\n        2        0    1.482143  1.377778\n                 1    1.567568  1.500000\n        3        0    2.000000  2.000000\n                 1    2.333333  2.300000\n        4        0    3.000000  2.000000\n                 1    3.000000  0.000000",
            "text/html": "<div>\n<style scoped>\n    .dataframe tbody tr th:only-of-type {\n        vertical-align: middle;\n    }\n\n    .dataframe tbody tr th {\n        vertical-align: top;\n    }\n\n    .dataframe thead th {\n        text-align: right;\n    }\n</style>\n<table border=\"1\" class=\"dataframe\">\n  <thead>\n    <tr style=\"text-align: right;\">\n      <th></th>\n      <th></th>\n      <th>SEX</th>\n      <th>1</th>\n      <th>2</th>\n    </tr>\n    <tr>\n      <th>NACCFAM</th>\n      <th>INDEPEND</th>\n      <th>APA</th>\n      <th></th>\n      <th></th>\n    </tr>\n  </thead>\n  <tbody>\n    <tr>\n      <th rowspan=\"8\" valign=\"top\">0</th>\n      <th rowspan=\"2\" valign=\"top\">1</th>\n      <th>0</th>\n      <td>0.451128</td>\n      <td>0.328502</td>\n    </tr>\n    <tr>\n      <th>1</th>\n      <td>1.250000</td>\n      <td>0.909091</td>\n    </tr>\n    <tr>\n      <th rowspan=\"2\" valign=\"top\">2</th>\n      <th>0</th>\n      <td>1.458333</td>\n      <td>1.138889</td>\n    </tr>\n    <tr>\n      <th>1</th>\n      <td>1.500000</td>\n      <td>1.615385</td>\n    </tr>\n    <tr>\n      <th rowspan=\"2\" valign=\"top\">3</th>\n      <th>0</th>\n      <td>2.250000</td>\n      <td>2.187500</td>\n    </tr>\n    <tr>\n      <th>1</th>\n      <td>2.363636</td>\n      <td>2.000000</td>\n    </tr>\n    <tr>\n      <th rowspan=\"2\" valign=\"top\">4</th>\n      <th>0</th>\n      <td>3.000000</td>\n      <td>3.000000</td>\n    </tr>\n    <tr>\n      <th>1</th>\n      <td>0.000000</td>\n      <td>3.000000</td>\n    </tr>\n    <tr>\n      <th rowspan=\"8\" valign=\"top\">1</th>\n      <th rowspan=\"2\" valign=\"top\">1</th>\n      <th>0</th>\n      <td>0.427273</td>\n      <td>0.266304</td>\n    </tr>\n    <tr>\n      <th>1</th>\n      <td>1.133333</td>\n      <td>0.928571</td>\n    </tr>\n    <tr>\n      <th rowspan=\"2\" valign=\"top\">2</th>\n      <th>0</th>\n      <td>1.482143</td>\n      <td>1.377778</td>\n    </tr>\n    <tr>\n      <th>1</th>\n      <td>1.567568</td>\n      <td>1.500000</td>\n    </tr>\n    <tr>\n      <th rowspan=\"2\" valign=\"top\">3</th>\n      <th>0</th>\n      <td>2.000000</td>\n      <td>2.000000</td>\n    </tr>\n    <tr>\n      <th>1</th>\n      <td>2.333333</td>\n      <td>2.300000</td>\n    </tr>\n    <tr>\n      <th rowspan=\"2\" valign=\"top\">4</th>\n      <th>0</th>\n      <td>3.000000</td>\n      <td>2.000000</td>\n    </tr>\n    <tr>\n      <th>1</th>\n      <td>3.000000</td>\n      <td>0.000000</td>\n    </tr>\n  </tbody>\n</table>\n</div>"
          },
          "execution_count": 40,
          "metadata": {},
          "output_type": "execute_result"
        }
      ],
      "source": [
        "'''\n",
        "Use INDEPEND, NACCFAM, APA columns to obtain multidimensional analysis.\n",
        "Interpreting the result: although NACCFAM and INDEPEND values vary in different conditions, the SEX feature caused CDRGLOB to have close results.\n",
        "Same SEX feature values are similar in some cases.\n",
        "'''\n",
        "pivot_2"
      ],
      "metadata": {
        "id": "aAsbz3rzs-oV",
        "outputId": "cfdb0c39-eb44-4d1f-bd42-616e2633751a"
      }
    },
    {
      "cell_type": "code",
      "execution_count": null,
      "outputs": [],
      "source": [
        "pivot_3 = pd.pivot_table(data=df, values='CDRGLOB', index=['NACCFAM', 'INDEPEND', 'GRAYVOL'], columns=['SEX'], aggfunc=np.mean, fill_value=0)"
      ],
      "metadata": {
        "id": "6y6WeZxUs-oY"
      }
    },
    {
      "cell_type": "code",
      "execution_count": null,
      "outputs": [
        {
          "data": {
            "text/plain": "SEX                       1  2\nNACCFAM INDEPEND GRAYVOL      \n0       1        398.846  0  1\n                 418.315  0  1\n                 427.993  0  0\n                 430.738  0  1\n                 444.240  0  1\n...                      .. ..\n1       4        516.238  0  3\n                 524.258  3  0\n                 539.174  3  0\n                 589.086  3  0\n                 628.990  0  1\n\n[1351 rows x 2 columns]",
            "text/html": "<div>\n<style scoped>\n    .dataframe tbody tr th:only-of-type {\n        vertical-align: middle;\n    }\n\n    .dataframe tbody tr th {\n        vertical-align: top;\n    }\n\n    .dataframe thead th {\n        text-align: right;\n    }\n</style>\n<table border=\"1\" class=\"dataframe\">\n  <thead>\n    <tr style=\"text-align: right;\">\n      <th></th>\n      <th></th>\n      <th>SEX</th>\n      <th>1</th>\n      <th>2</th>\n    </tr>\n    <tr>\n      <th>NACCFAM</th>\n      <th>INDEPEND</th>\n      <th>GRAYVOL</th>\n      <th></th>\n      <th></th>\n    </tr>\n  </thead>\n  <tbody>\n    <tr>\n      <th rowspan=\"5\" valign=\"top\">0</th>\n      <th rowspan=\"5\" valign=\"top\">1</th>\n      <th>398.846</th>\n      <td>0</td>\n      <td>1</td>\n    </tr>\n    <tr>\n      <th>418.315</th>\n      <td>0</td>\n      <td>1</td>\n    </tr>\n    <tr>\n      <th>427.993</th>\n      <td>0</td>\n      <td>0</td>\n    </tr>\n    <tr>\n      <th>430.738</th>\n      <td>0</td>\n      <td>1</td>\n    </tr>\n    <tr>\n      <th>444.240</th>\n      <td>0</td>\n      <td>1</td>\n    </tr>\n    <tr>\n      <th>...</th>\n      <th>...</th>\n      <th>...</th>\n      <td>...</td>\n      <td>...</td>\n    </tr>\n    <tr>\n      <th rowspan=\"5\" valign=\"top\">1</th>\n      <th rowspan=\"5\" valign=\"top\">4</th>\n      <th>516.238</th>\n      <td>0</td>\n      <td>3</td>\n    </tr>\n    <tr>\n      <th>524.258</th>\n      <td>3</td>\n      <td>0</td>\n    </tr>\n    <tr>\n      <th>539.174</th>\n      <td>3</td>\n      <td>0</td>\n    </tr>\n    <tr>\n      <th>589.086</th>\n      <td>3</td>\n      <td>0</td>\n    </tr>\n    <tr>\n      <th>628.990</th>\n      <td>0</td>\n      <td>1</td>\n    </tr>\n  </tbody>\n</table>\n<p>1351 rows × 2 columns</p>\n</div>"
          },
          "execution_count": 42,
          "metadata": {},
          "output_type": "execute_result"
        }
      ],
      "source": [
        "'''\n",
        "GRAVYOL is non-categorical variable -> bottleneck problem, it should be normalized or not used in these type of problems.\n",
        "'''\n",
        "pivot_3"
      ],
      "metadata": {
        "id": "YCdACQkQs-oZ",
        "outputId": "2c674f38-5993-4c51-877f-8b94ca3c5a1a"
      }
    },
    {
      "cell_type": "markdown",
      "source": [
        "TASK 7C"
      ],
      "metadata": {
        "collapsed": false,
        "id": "SZhvA-ims-oa"
      }
    },
    {
      "cell_type": "code",
      "execution_count": null,
      "outputs": [],
      "source": [
        "df_copy = df.copy(deep=True)"
      ],
      "metadata": {
        "id": "LXAbOWNks-ob"
      }
    },
    {
      "cell_type": "code",
      "execution_count": null,
      "outputs": [],
      "source": [
        "numeric_column_names = df.loc[:, df.dtypes == float].columns"
      ],
      "metadata": {
        "id": "d3J9OIb9s-ob"
      }
    },
    {
      "cell_type": "code",
      "execution_count": null,
      "outputs": [],
      "source": [
        "'''\n",
        "Numeric column values to normalized values respect to NACCBRNV column value.\n",
        "'''\n",
        "for column in numeric_column_names:\n",
        "    x = df[column].to_numpy()\n",
        "    df_copy[column] /= df[\"NACCBRNV\"]"
      ],
      "metadata": {
        "id": "U66-kE4hs-oc"
      }
    },
    {
      "cell_type": "code",
      "execution_count": null,
      "outputs": [
        {
          "data": {
            "text/plain": "      SEX  EDUC  MARISTAT  INDEPEND  RESIDENC  NACCFAM  ANYMEDS  SMOKYRS  \\\n0       2    18         1         1         1        1        1        0   \n1       1    11         1         1         1        1        1        0   \n2       2    16         1         1         1        1        1       10   \n3       1    14         1         1         1        0        1        0   \n4       1    16         1         1         2        0        1       50   \n...   ...   ...       ...       ...       ...      ...      ...      ...   \n1349    1    20         1         1         1        1        1        0   \n1350    1    16         1         2         1        0        1        0   \n1351    2    14         2         1         1        1        1        0   \n1352    2    20         3         1         1        1        1       25   \n1353    2    14         1         1         1        1        1       10   \n\n      NACCTBI  DIABETES  ...    RSUPFR   RSUPFRM   RSUPPAR  RSUPPARM  \\\n0           0         0  ...  0.024938  0.001980  0.009248  0.001521   \n1           0         0  ...  0.026235  0.002428  0.008351  0.001472   \n2           0         1  ...  0.027783  0.002138  0.011526  0.001313   \n3           0         1  ...  0.028404  0.002161  0.008643  0.001300   \n4           0         0  ...  0.027655  0.001922  0.008980  0.001028   \n...       ...       ...  ...       ...       ...       ...       ...   \n1349        0         0  ...  0.021636  0.002325  0.009242  0.001903   \n1350        0         0  ...  0.020792  0.001761  0.008730  0.001246   \n1351        0         0  ...  0.022328  0.001985  0.011599  0.001432   \n1352        0         0  ...  0.028350  0.002197  0.009785  0.001537   \n1353        0         0  ...  0.022060  0.002418  0.009922  0.001766   \n\n       RSUPTEM  RSUPTEMM   RSUPMAR  RSUPMARM    RTRTEM   RTRTEMM  \n0     0.011998  0.001557  0.008821  0.001501  0.000796  0.001068  \n1     0.013433  0.002076  0.006563  0.001706  0.001246  0.001833  \n2     0.013664  0.001743  0.008512  0.001549  0.000850  0.001263  \n3     0.013548  0.001470  0.009316  0.001641  0.000663  0.000986  \n4     0.013182  0.001603  0.007474  0.001438  0.000654  0.000840  \n...        ...       ...       ...       ...       ...       ...  \n1349  0.012368  0.002527  0.008165  0.002067  0.000590  0.000900  \n1350  0.009048  0.001596  0.008558  0.001718  0.000609  0.000666  \n1351  0.011852  0.001863  0.008875  0.001629  0.001105  0.001489  \n1352  0.012452  0.001899  0.010056  0.001935  0.001185  0.001375  \n1353  0.014005  0.002207  0.009992  0.001866  0.000833  0.001655  \n\n[1354 rows x 186 columns]",
            "text/html": "<div>\n<style scoped>\n    .dataframe tbody tr th:only-of-type {\n        vertical-align: middle;\n    }\n\n    .dataframe tbody tr th {\n        vertical-align: top;\n    }\n\n    .dataframe thead th {\n        text-align: right;\n    }\n</style>\n<table border=\"1\" class=\"dataframe\">\n  <thead>\n    <tr style=\"text-align: right;\">\n      <th></th>\n      <th>SEX</th>\n      <th>EDUC</th>\n      <th>MARISTAT</th>\n      <th>INDEPEND</th>\n      <th>RESIDENC</th>\n      <th>NACCFAM</th>\n      <th>ANYMEDS</th>\n      <th>SMOKYRS</th>\n      <th>NACCTBI</th>\n      <th>DIABETES</th>\n      <th>...</th>\n      <th>RSUPFR</th>\n      <th>RSUPFRM</th>\n      <th>RSUPPAR</th>\n      <th>RSUPPARM</th>\n      <th>RSUPTEM</th>\n      <th>RSUPTEMM</th>\n      <th>RSUPMAR</th>\n      <th>RSUPMARM</th>\n      <th>RTRTEM</th>\n      <th>RTRTEMM</th>\n    </tr>\n  </thead>\n  <tbody>\n    <tr>\n      <th>0</th>\n      <td>2</td>\n      <td>18</td>\n      <td>1</td>\n      <td>1</td>\n      <td>1</td>\n      <td>1</td>\n      <td>1</td>\n      <td>0</td>\n      <td>0</td>\n      <td>0</td>\n      <td>...</td>\n      <td>0.024938</td>\n      <td>0.001980</td>\n      <td>0.009248</td>\n      <td>0.001521</td>\n      <td>0.011998</td>\n      <td>0.001557</td>\n      <td>0.008821</td>\n      <td>0.001501</td>\n      <td>0.000796</td>\n      <td>0.001068</td>\n    </tr>\n    <tr>\n      <th>1</th>\n      <td>1</td>\n      <td>11</td>\n      <td>1</td>\n      <td>1</td>\n      <td>1</td>\n      <td>1</td>\n      <td>1</td>\n      <td>0</td>\n      <td>0</td>\n      <td>0</td>\n      <td>...</td>\n      <td>0.026235</td>\n      <td>0.002428</td>\n      <td>0.008351</td>\n      <td>0.001472</td>\n      <td>0.013433</td>\n      <td>0.002076</td>\n      <td>0.006563</td>\n      <td>0.001706</td>\n      <td>0.001246</td>\n      <td>0.001833</td>\n    </tr>\n    <tr>\n      <th>2</th>\n      <td>2</td>\n      <td>16</td>\n      <td>1</td>\n      <td>1</td>\n      <td>1</td>\n      <td>1</td>\n      <td>1</td>\n      <td>10</td>\n      <td>0</td>\n      <td>1</td>\n      <td>...</td>\n      <td>0.027783</td>\n      <td>0.002138</td>\n      <td>0.011526</td>\n      <td>0.001313</td>\n      <td>0.013664</td>\n      <td>0.001743</td>\n      <td>0.008512</td>\n      <td>0.001549</td>\n      <td>0.000850</td>\n      <td>0.001263</td>\n    </tr>\n    <tr>\n      <th>3</th>\n      <td>1</td>\n      <td>14</td>\n      <td>1</td>\n      <td>1</td>\n      <td>1</td>\n      <td>0</td>\n      <td>1</td>\n      <td>0</td>\n      <td>0</td>\n      <td>1</td>\n      <td>...</td>\n      <td>0.028404</td>\n      <td>0.002161</td>\n      <td>0.008643</td>\n      <td>0.001300</td>\n      <td>0.013548</td>\n      <td>0.001470</td>\n      <td>0.009316</td>\n      <td>0.001641</td>\n      <td>0.000663</td>\n      <td>0.000986</td>\n    </tr>\n    <tr>\n      <th>4</th>\n      <td>1</td>\n      <td>16</td>\n      <td>1</td>\n      <td>1</td>\n      <td>2</td>\n      <td>0</td>\n      <td>1</td>\n      <td>50</td>\n      <td>0</td>\n      <td>0</td>\n      <td>...</td>\n      <td>0.027655</td>\n      <td>0.001922</td>\n      <td>0.008980</td>\n      <td>0.001028</td>\n      <td>0.013182</td>\n      <td>0.001603</td>\n      <td>0.007474</td>\n      <td>0.001438</td>\n      <td>0.000654</td>\n      <td>0.000840</td>\n    </tr>\n    <tr>\n      <th>...</th>\n      <td>...</td>\n      <td>...</td>\n      <td>...</td>\n      <td>...</td>\n      <td>...</td>\n      <td>...</td>\n      <td>...</td>\n      <td>...</td>\n      <td>...</td>\n      <td>...</td>\n      <td>...</td>\n      <td>...</td>\n      <td>...</td>\n      <td>...</td>\n      <td>...</td>\n      <td>...</td>\n      <td>...</td>\n      <td>...</td>\n      <td>...</td>\n      <td>...</td>\n      <td>...</td>\n    </tr>\n    <tr>\n      <th>1349</th>\n      <td>1</td>\n      <td>20</td>\n      <td>1</td>\n      <td>1</td>\n      <td>1</td>\n      <td>1</td>\n      <td>1</td>\n      <td>0</td>\n      <td>0</td>\n      <td>0</td>\n      <td>...</td>\n      <td>0.021636</td>\n      <td>0.002325</td>\n      <td>0.009242</td>\n      <td>0.001903</td>\n      <td>0.012368</td>\n      <td>0.002527</td>\n      <td>0.008165</td>\n      <td>0.002067</td>\n      <td>0.000590</td>\n      <td>0.000900</td>\n    </tr>\n    <tr>\n      <th>1350</th>\n      <td>1</td>\n      <td>16</td>\n      <td>1</td>\n      <td>2</td>\n      <td>1</td>\n      <td>0</td>\n      <td>1</td>\n      <td>0</td>\n      <td>0</td>\n      <td>0</td>\n      <td>...</td>\n      <td>0.020792</td>\n      <td>0.001761</td>\n      <td>0.008730</td>\n      <td>0.001246</td>\n      <td>0.009048</td>\n      <td>0.001596</td>\n      <td>0.008558</td>\n      <td>0.001718</td>\n      <td>0.000609</td>\n      <td>0.000666</td>\n    </tr>\n    <tr>\n      <th>1351</th>\n      <td>2</td>\n      <td>14</td>\n      <td>2</td>\n      <td>1</td>\n      <td>1</td>\n      <td>1</td>\n      <td>1</td>\n      <td>0</td>\n      <td>0</td>\n      <td>0</td>\n      <td>...</td>\n      <td>0.022328</td>\n      <td>0.001985</td>\n      <td>0.011599</td>\n      <td>0.001432</td>\n      <td>0.011852</td>\n      <td>0.001863</td>\n      <td>0.008875</td>\n      <td>0.001629</td>\n      <td>0.001105</td>\n      <td>0.001489</td>\n    </tr>\n    <tr>\n      <th>1352</th>\n      <td>2</td>\n      <td>20</td>\n      <td>3</td>\n      <td>1</td>\n      <td>1</td>\n      <td>1</td>\n      <td>1</td>\n      <td>25</td>\n      <td>0</td>\n      <td>0</td>\n      <td>...</td>\n      <td>0.028350</td>\n      <td>0.002197</td>\n      <td>0.009785</td>\n      <td>0.001537</td>\n      <td>0.012452</td>\n      <td>0.001899</td>\n      <td>0.010056</td>\n      <td>0.001935</td>\n      <td>0.001185</td>\n      <td>0.001375</td>\n    </tr>\n    <tr>\n      <th>1353</th>\n      <td>2</td>\n      <td>14</td>\n      <td>1</td>\n      <td>1</td>\n      <td>1</td>\n      <td>1</td>\n      <td>1</td>\n      <td>10</td>\n      <td>0</td>\n      <td>0</td>\n      <td>...</td>\n      <td>0.022060</td>\n      <td>0.002418</td>\n      <td>0.009922</td>\n      <td>0.001766</td>\n      <td>0.014005</td>\n      <td>0.002207</td>\n      <td>0.009992</td>\n      <td>0.001866</td>\n      <td>0.000833</td>\n      <td>0.001655</td>\n    </tr>\n  </tbody>\n</table>\n<p>1354 rows × 186 columns</p>\n</div>"
          },
          "execution_count": 46,
          "metadata": {},
          "output_type": "execute_result"
        }
      ],
      "source": [
        "df_copy"
      ],
      "metadata": {
        "id": "8W_bf_e2s-od",
        "outputId": "cddd3e97-9d19-4c05-920b-b680d0cc0590"
      }
    },
    {
      "cell_type": "code",
      "execution_count": null,
      "outputs": [],
      "source": [
        "df_copy_1 = df.copy(deep=True)"
      ],
      "metadata": {
        "id": "zuPIFOJfs-oe"
      }
    },
    {
      "cell_type": "code",
      "execution_count": null,
      "outputs": [],
      "source": [
        "'''\n",
        "Numeric column values to normalized values respect to for each column values.\n",
        "'''\n",
        "for column in numeric_column_names:\n",
        "    x = df[column].to_numpy()\n",
        "    normalizer = Normalizer().fit([x])\n",
        "    transformed_arr = normalizer.transform([x])\n",
        "    df_copy_1[column] = pd.Series(transformed_arr.ravel())"
      ],
      "metadata": {
        "id": "wTN1yH17s-of"
      }
    },
    {
      "cell_type": "code",
      "execution_count": null,
      "outputs": [
        {
          "data": {
            "text/plain": "      SEX  EDUC  MARISTAT  INDEPEND  RESIDENC  NACCFAM  ANYMEDS  SMOKYRS  \\\n0       2    18         1         1         1        1        1        0   \n1       1    11         1         1         1        1        1        0   \n2       2    16         1         1         1        1        1       10   \n3       1    14         1         1         1        0        1        0   \n4       1    16         1         1         2        0        1       50   \n...   ...   ...       ...       ...       ...      ...      ...      ...   \n1349    1    20         1         1         1        1        1        0   \n1350    1    16         1         2         1        0        1        0   \n1351    2    14         2         1         1        1        1        0   \n1352    2    20         3         1         1        1        1       25   \n1353    2    14         1         1         1        1        1       10   \n\n      NACCTBI  DIABETES  ...    RSUPFR   RSUPFRM   RSUPPAR  RSUPPARM  \\\n0           0         0  ...  0.031383  0.027190  0.027330  0.031626   \n1           0         0  ...  0.032683  0.033011  0.024430  0.030299   \n2           0         1  ...  0.037114  0.031170  0.036156  0.028998   \n3           0         1  ...  0.035630  0.029575  0.025460  0.026953   \n4           0         0  ...  0.031562  0.023931  0.024067  0.019382   \n...       ...       ...  ...       ...       ...       ...       ...   \n1349        0         0  ...  0.027767  0.032554  0.027852  0.040359   \n1350        0         0  ...  0.027882  0.025762  0.027492  0.027613   \n1351        0         0  ...  0.026824  0.026016  0.032723  0.028440   \n1352        0         0  ...  0.035259  0.029820  0.028576  0.031600   \n1353        0         0  ...  0.024732  0.029575  0.026120  0.032716   \n\n       RSUPTEM  RSUPTEMM   RSUPMAR  RSUPMARM    RTRTEM   RTRTEMM  \n0     0.027310  0.022014  0.031257  0.025651  0.028320  0.022901  \n1     0.030270  0.029067  0.023023  0.028871  0.043883  0.038913  \n2     0.033016  0.026160  0.032017  0.028107  0.032117  0.028753  \n3     0.030738  0.020726  0.032904  0.027955  0.023531  0.021086  \n4     0.027211  0.020562  0.024019  0.022295  0.021108  0.016345  \n...        ...       ...       ...       ...       ...       ...  \n1349  0.028709  0.036438  0.029507  0.036023  0.021417  0.019687  \n1350  0.021946  0.024046  0.032313  0.031291  0.023108  0.015232  \n1351  0.025754  0.025149  0.030022  0.026580  0.037523  0.030479  \n1352  0.028012  0.026539  0.035215  0.032690  0.041657  0.029137  \n1353  0.028399  0.027803  0.031542  0.028413  0.026393  0.031629  \n\n[1354 rows x 186 columns]",
            "text/html": "<div>\n<style scoped>\n    .dataframe tbody tr th:only-of-type {\n        vertical-align: middle;\n    }\n\n    .dataframe tbody tr th {\n        vertical-align: top;\n    }\n\n    .dataframe thead th {\n        text-align: right;\n    }\n</style>\n<table border=\"1\" class=\"dataframe\">\n  <thead>\n    <tr style=\"text-align: right;\">\n      <th></th>\n      <th>SEX</th>\n      <th>EDUC</th>\n      <th>MARISTAT</th>\n      <th>INDEPEND</th>\n      <th>RESIDENC</th>\n      <th>NACCFAM</th>\n      <th>ANYMEDS</th>\n      <th>SMOKYRS</th>\n      <th>NACCTBI</th>\n      <th>DIABETES</th>\n      <th>...</th>\n      <th>RSUPFR</th>\n      <th>RSUPFRM</th>\n      <th>RSUPPAR</th>\n      <th>RSUPPARM</th>\n      <th>RSUPTEM</th>\n      <th>RSUPTEMM</th>\n      <th>RSUPMAR</th>\n      <th>RSUPMARM</th>\n      <th>RTRTEM</th>\n      <th>RTRTEMM</th>\n    </tr>\n  </thead>\n  <tbody>\n    <tr>\n      <th>0</th>\n      <td>2</td>\n      <td>18</td>\n      <td>1</td>\n      <td>1</td>\n      <td>1</td>\n      <td>1</td>\n      <td>1</td>\n      <td>0</td>\n      <td>0</td>\n      <td>0</td>\n      <td>...</td>\n      <td>0.031383</td>\n      <td>0.027190</td>\n      <td>0.027330</td>\n      <td>0.031626</td>\n      <td>0.027310</td>\n      <td>0.022014</td>\n      <td>0.031257</td>\n      <td>0.025651</td>\n      <td>0.028320</td>\n      <td>0.022901</td>\n    </tr>\n    <tr>\n      <th>1</th>\n      <td>1</td>\n      <td>11</td>\n      <td>1</td>\n      <td>1</td>\n      <td>1</td>\n      <td>1</td>\n      <td>1</td>\n      <td>0</td>\n      <td>0</td>\n      <td>0</td>\n      <td>...</td>\n      <td>0.032683</td>\n      <td>0.033011</td>\n      <td>0.024430</td>\n      <td>0.030299</td>\n      <td>0.030270</td>\n      <td>0.029067</td>\n      <td>0.023023</td>\n      <td>0.028871</td>\n      <td>0.043883</td>\n      <td>0.038913</td>\n    </tr>\n    <tr>\n      <th>2</th>\n      <td>2</td>\n      <td>16</td>\n      <td>1</td>\n      <td>1</td>\n      <td>1</td>\n      <td>1</td>\n      <td>1</td>\n      <td>10</td>\n      <td>0</td>\n      <td>1</td>\n      <td>...</td>\n      <td>0.037114</td>\n      <td>0.031170</td>\n      <td>0.036156</td>\n      <td>0.028998</td>\n      <td>0.033016</td>\n      <td>0.026160</td>\n      <td>0.032017</td>\n      <td>0.028107</td>\n      <td>0.032117</td>\n      <td>0.028753</td>\n    </tr>\n    <tr>\n      <th>3</th>\n      <td>1</td>\n      <td>14</td>\n      <td>1</td>\n      <td>1</td>\n      <td>1</td>\n      <td>0</td>\n      <td>1</td>\n      <td>0</td>\n      <td>0</td>\n      <td>1</td>\n      <td>...</td>\n      <td>0.035630</td>\n      <td>0.029575</td>\n      <td>0.025460</td>\n      <td>0.026953</td>\n      <td>0.030738</td>\n      <td>0.020726</td>\n      <td>0.032904</td>\n      <td>0.027955</td>\n      <td>0.023531</td>\n      <td>0.021086</td>\n    </tr>\n    <tr>\n      <th>4</th>\n      <td>1</td>\n      <td>16</td>\n      <td>1</td>\n      <td>1</td>\n      <td>2</td>\n      <td>0</td>\n      <td>1</td>\n      <td>50</td>\n      <td>0</td>\n      <td>0</td>\n      <td>...</td>\n      <td>0.031562</td>\n      <td>0.023931</td>\n      <td>0.024067</td>\n      <td>0.019382</td>\n      <td>0.027211</td>\n      <td>0.020562</td>\n      <td>0.024019</td>\n      <td>0.022295</td>\n      <td>0.021108</td>\n      <td>0.016345</td>\n    </tr>\n    <tr>\n      <th>...</th>\n      <td>...</td>\n      <td>...</td>\n      <td>...</td>\n      <td>...</td>\n      <td>...</td>\n      <td>...</td>\n      <td>...</td>\n      <td>...</td>\n      <td>...</td>\n      <td>...</td>\n      <td>...</td>\n      <td>...</td>\n      <td>...</td>\n      <td>...</td>\n      <td>...</td>\n      <td>...</td>\n      <td>...</td>\n      <td>...</td>\n      <td>...</td>\n      <td>...</td>\n      <td>...</td>\n    </tr>\n    <tr>\n      <th>1349</th>\n      <td>1</td>\n      <td>20</td>\n      <td>1</td>\n      <td>1</td>\n      <td>1</td>\n      <td>1</td>\n      <td>1</td>\n      <td>0</td>\n      <td>0</td>\n      <td>0</td>\n      <td>...</td>\n      <td>0.027767</td>\n      <td>0.032554</td>\n      <td>0.027852</td>\n      <td>0.040359</td>\n      <td>0.028709</td>\n      <td>0.036438</td>\n      <td>0.029507</td>\n      <td>0.036023</td>\n      <td>0.021417</td>\n      <td>0.019687</td>\n    </tr>\n    <tr>\n      <th>1350</th>\n      <td>1</td>\n      <td>16</td>\n      <td>1</td>\n      <td>2</td>\n      <td>1</td>\n      <td>0</td>\n      <td>1</td>\n      <td>0</td>\n      <td>0</td>\n      <td>0</td>\n      <td>...</td>\n      <td>0.027882</td>\n      <td>0.025762</td>\n      <td>0.027492</td>\n      <td>0.027613</td>\n      <td>0.021946</td>\n      <td>0.024046</td>\n      <td>0.032313</td>\n      <td>0.031291</td>\n      <td>0.023108</td>\n      <td>0.015232</td>\n    </tr>\n    <tr>\n      <th>1351</th>\n      <td>2</td>\n      <td>14</td>\n      <td>2</td>\n      <td>1</td>\n      <td>1</td>\n      <td>1</td>\n      <td>1</td>\n      <td>0</td>\n      <td>0</td>\n      <td>0</td>\n      <td>...</td>\n      <td>0.026824</td>\n      <td>0.026016</td>\n      <td>0.032723</td>\n      <td>0.028440</td>\n      <td>0.025754</td>\n      <td>0.025149</td>\n      <td>0.030022</td>\n      <td>0.026580</td>\n      <td>0.037523</td>\n      <td>0.030479</td>\n    </tr>\n    <tr>\n      <th>1352</th>\n      <td>2</td>\n      <td>20</td>\n      <td>3</td>\n      <td>1</td>\n      <td>1</td>\n      <td>1</td>\n      <td>1</td>\n      <td>25</td>\n      <td>0</td>\n      <td>0</td>\n      <td>...</td>\n      <td>0.035259</td>\n      <td>0.029820</td>\n      <td>0.028576</td>\n      <td>0.031600</td>\n      <td>0.028012</td>\n      <td>0.026539</td>\n      <td>0.035215</td>\n      <td>0.032690</td>\n      <td>0.041657</td>\n      <td>0.029137</td>\n    </tr>\n    <tr>\n      <th>1353</th>\n      <td>2</td>\n      <td>14</td>\n      <td>1</td>\n      <td>1</td>\n      <td>1</td>\n      <td>1</td>\n      <td>1</td>\n      <td>10</td>\n      <td>0</td>\n      <td>0</td>\n      <td>...</td>\n      <td>0.024732</td>\n      <td>0.029575</td>\n      <td>0.026120</td>\n      <td>0.032716</td>\n      <td>0.028399</td>\n      <td>0.027803</td>\n      <td>0.031542</td>\n      <td>0.028413</td>\n      <td>0.026393</td>\n      <td>0.031629</td>\n    </tr>\n  </tbody>\n</table>\n<p>1354 rows × 186 columns</p>\n</div>"
          },
          "execution_count": 49,
          "metadata": {},
          "output_type": "execute_result"
        }
      ],
      "source": [
        "df_copy_1"
      ],
      "metadata": {
        "id": "UDUXVdyls-og",
        "outputId": "884ff66a-4c69-4fae-ad49-fabd80fdcf78"
      }
    },
    {
      "cell_type": "markdown",
      "source": [
        "TASK 7D"
      ],
      "metadata": {
        "collapsed": false,
        "id": "4lWJejHEs-og"
      }
    },
    {
      "cell_type": "code",
      "execution_count": null,
      "outputs": [
        {
          "data": {
            "text/plain": "CDRGLOB     1.000000\nINDEPEND    0.693881\nAPA         0.448558\nLLATVENT    0.414033\nRLATVENT    0.406806\n              ...   \nRHIPPO     -0.424068\nLHIPPO     -0.442185\nLENTM      -0.453646\nRENTM      -0.478207\nNACCMMSE   -0.746660\nLength: 186, dtype: float64"
          },
          "execution_count": 50,
          "metadata": {},
          "output_type": "execute_result"
        }
      ],
      "source": [
        "'''Normalization is done with the column's own values'''\n",
        "df_copy_1.corrwith(df_copy_1[\"CDRGLOB\"]).sort_values(ascending=False)"
      ],
      "metadata": {
        "id": "k4qpCrD4s-oh",
        "outputId": "06cd133f-e5e7-49da-eaac-7012311aa2cd"
      }
    },
    {
      "cell_type": "code",
      "execution_count": null,
      "outputs": [
        {
          "data": {
            "text/plain": "CDRGLOB     1.000000\nINDEPEND    0.693881\nAPA         0.448558\nLLATVENT    0.443272\nRLATVENT    0.435256\n              ...   \nRHIPPO     -0.372265\nRENTM      -0.385800\nLHIPPO     -0.390896\nNACCMMSE   -0.746660\nNACCBRNV         NaN\nLength: 186, dtype: float64"
          },
          "execution_count": 51,
          "metadata": {},
          "output_type": "execute_result"
        }
      ],
      "source": [
        "'''Normalization is done with the NACCBRNV values'''\n",
        "df_copy.corrwith(df_copy[\"CDRGLOB\"]).sort_values(ascending=False)"
      ],
      "metadata": {
        "id": "91CeSZP-s-oi",
        "outputId": "5cdfd026-3425-4994-99d5-ae43abff1d22"
      }
    },
    {
      "cell_type": "markdown",
      "source": [
        "TASK 7E"
      ],
      "metadata": {
        "id": "bALeWeTrzyJq"
      }
    },
    {
      "cell_type": "code",
      "execution_count": 37,
      "outputs": [
        {
          "output_type": "execute_result",
          "data": {
            "text/plain": [
              "         formula1  formula2  formula3\n",
              "CDRGLOB   0.71016  0.492214 -0.613657"
            ],
            "text/html": [
              "\n",
              "  <div id=\"df-5ef814da-f16a-4fc8-8640-27fc4fa265c8\">\n",
              "    <div class=\"colab-df-container\">\n",
              "      <div>\n",
              "<style scoped>\n",
              "    .dataframe tbody tr th:only-of-type {\n",
              "        vertical-align: middle;\n",
              "    }\n",
              "\n",
              "    .dataframe tbody tr th {\n",
              "        vertical-align: top;\n",
              "    }\n",
              "\n",
              "    .dataframe thead th {\n",
              "        text-align: right;\n",
              "    }\n",
              "</style>\n",
              "<table border=\"1\" class=\"dataframe\">\n",
              "  <thead>\n",
              "    <tr style=\"text-align: right;\">\n",
              "      <th></th>\n",
              "      <th>formula1</th>\n",
              "      <th>formula2</th>\n",
              "      <th>formula3</th>\n",
              "    </tr>\n",
              "  </thead>\n",
              "  <tbody>\n",
              "    <tr>\n",
              "      <th>CDRGLOB</th>\n",
              "      <td>0.71016</td>\n",
              "      <td>0.492214</td>\n",
              "      <td>-0.613657</td>\n",
              "    </tr>\n",
              "  </tbody>\n",
              "</table>\n",
              "</div>\n",
              "      <button class=\"colab-df-convert\" onclick=\"convertToInteractive('df-5ef814da-f16a-4fc8-8640-27fc4fa265c8')\"\n",
              "              title=\"Convert this dataframe to an interactive table.\"\n",
              "              style=\"display:none;\">\n",
              "        \n",
              "  <svg xmlns=\"http://www.w3.org/2000/svg\" height=\"24px\"viewBox=\"0 0 24 24\"\n",
              "       width=\"24px\">\n",
              "    <path d=\"M0 0h24v24H0V0z\" fill=\"none\"/>\n",
              "    <path d=\"M18.56 5.44l.94 2.06.94-2.06 2.06-.94-2.06-.94-.94-2.06-.94 2.06-2.06.94zm-11 1L8.5 8.5l.94-2.06 2.06-.94-2.06-.94L8.5 2.5l-.94 2.06-2.06.94zm10 10l.94 2.06.94-2.06 2.06-.94-2.06-.94-.94-2.06-.94 2.06-2.06.94z\"/><path d=\"M17.41 7.96l-1.37-1.37c-.4-.4-.92-.59-1.43-.59-.52 0-1.04.2-1.43.59L10.3 9.45l-7.72 7.72c-.78.78-.78 2.05 0 2.83L4 21.41c.39.39.9.59 1.41.59.51 0 1.02-.2 1.41-.59l7.78-7.78 2.81-2.81c.8-.78.8-2.07 0-2.86zM5.41 20L4 18.59l7.72-7.72 1.47 1.35L5.41 20z\"/>\n",
              "  </svg>\n",
              "      </button>\n",
              "      \n",
              "  <style>\n",
              "    .colab-df-container {\n",
              "      display:flex;\n",
              "      flex-wrap:wrap;\n",
              "      gap: 12px;\n",
              "    }\n",
              "\n",
              "    .colab-df-convert {\n",
              "      background-color: #E8F0FE;\n",
              "      border: none;\n",
              "      border-radius: 50%;\n",
              "      cursor: pointer;\n",
              "      display: none;\n",
              "      fill: #1967D2;\n",
              "      height: 32px;\n",
              "      padding: 0 0 0 0;\n",
              "      width: 32px;\n",
              "    }\n",
              "\n",
              "    .colab-df-convert:hover {\n",
              "      background-color: #E2EBFA;\n",
              "      box-shadow: 0px 1px 2px rgba(60, 64, 67, 0.3), 0px 1px 3px 1px rgba(60, 64, 67, 0.15);\n",
              "      fill: #174EA6;\n",
              "    }\n",
              "\n",
              "    [theme=dark] .colab-df-convert {\n",
              "      background-color: #3B4455;\n",
              "      fill: #D2E3FC;\n",
              "    }\n",
              "\n",
              "    [theme=dark] .colab-df-convert:hover {\n",
              "      background-color: #434B5C;\n",
              "      box-shadow: 0px 1px 3px 1px rgba(0, 0, 0, 0.15);\n",
              "      filter: drop-shadow(0px 1px 2px rgba(0, 0, 0, 0.3));\n",
              "      fill: #FFFFFF;\n",
              "    }\n",
              "  </style>\n",
              "\n",
              "      <script>\n",
              "        const buttonEl =\n",
              "          document.querySelector('#df-5ef814da-f16a-4fc8-8640-27fc4fa265c8 button.colab-df-convert');\n",
              "        buttonEl.style.display =\n",
              "          google.colab.kernel.accessAllowed ? 'block' : 'none';\n",
              "\n",
              "        async function convertToInteractive(key) {\n",
              "          const element = document.querySelector('#df-5ef814da-f16a-4fc8-8640-27fc4fa265c8');\n",
              "          const dataTable =\n",
              "            await google.colab.kernel.invokeFunction('convertToInteractive',\n",
              "                                                     [key], {});\n",
              "          if (!dataTable) return;\n",
              "\n",
              "          const docLinkHtml = 'Like what you see? Visit the ' +\n",
              "            '<a target=\"_blank\" href=https://colab.research.google.com/notebooks/data_table.ipynb>data table notebook</a>'\n",
              "            + ' to learn more about interactive tables.';\n",
              "          element.innerHTML = '';\n",
              "          dataTable['output_type'] = 'display_data';\n",
              "          await google.colab.output.renderOutput(dataTable, element);\n",
              "          const docLink = document.createElement('div');\n",
              "          docLink.innerHTML = docLinkHtml;\n",
              "          element.appendChild(docLink);\n",
              "        }\n",
              "      </script>\n",
              "    </div>\n",
              "  </div>\n",
              "  "
            ]
          },
          "metadata": {},
          "execution_count": 37
        }
      ],
      "source": [
        "cdr= df['CDRGLOB']\n",
        "\n",
        "formula1 = (df['INDEPEND'] + df['APA'] ) / df['NACCFAM']\n",
        "formula2 = ( df['LLATVENT'] + df['RLATVENT'] ) / df['RHIPPO'] \n",
        "formula3 = (df['LHIPPO'] + df['NACCMMSE'] ) / df['HYPERCHO'] + df['RENTM']\n",
        "\n",
        "data01 = pd.concat([formula1, formula2, formula3, cdr], axis=1, join =\"outer\")\n",
        "data01.columns =['formula1', 'formula2', 'formula3', 'CDRGLOB']\n",
        "\n",
        "data01.corr().iloc[-1:,:-1]"
      ],
      "metadata": {
        "colab": {
          "base_uri": "https://localhost:8080/",
          "height": 81
        },
        "id": "zbeKDHhis-oi",
        "outputId": "6577ea27-cfbc-43cb-8df7-08cce3e83717"
      }
    },
    {
      "cell_type": "markdown",
      "source": [
        "TASK 7F"
      ],
      "metadata": {
        "id": "zpnIX9Ho_03z"
      }
    },
    {
      "cell_type": "code",
      "source": [
        "from sklearn.model_selection import train_test_split, GridSearchCV\n",
        "from sklearn.ensemble import GradientBoostingClassifier\n",
        "from time import time"
      ],
      "metadata": {
        "id": "z74bbKWQ_Zl2"
      },
      "execution_count": 39,
      "outputs": []
    },
    {
      "cell_type": "code",
      "source": [
        "y = df['CDRGLOB']\n",
        "\n",
        "X = df.loc[:, [\"APA\", \"NACCMMSE\", \"INDEPEND\",]]  \n",
        "\n",
        "x_train, x_test, y_train, y_test = train_test_split(X, y, test_size=0.2, stratify=y)"
      ],
      "metadata": {
        "id": "d9JJHRjCA2q_"
      },
      "execution_count": 53,
      "outputs": []
    },
    {
      "cell_type": "code",
      "source": [
        "grad_boost = GradientBoostingClassifier()"
      ],
      "metadata": {
        "id": "F7amOXlsB0wW"
      },
      "execution_count": 54,
      "outputs": []
    },
    {
      "cell_type": "code",
      "source": [
        "grad_boost.fit(X=x_train, y=y_train)"
      ],
      "metadata": {
        "colab": {
          "base_uri": "https://localhost:8080/"
        },
        "id": "z7jaP_AyB4lx",
        "outputId": "9512a20d-8fae-4a9b-8665-9d638f740e75"
      },
      "execution_count": 55,
      "outputs": [
        {
          "output_type": "execute_result",
          "data": {
            "text/plain": [
              "GradientBoostingClassifier()"
            ]
          },
          "metadata": {},
          "execution_count": 55
        }
      ]
    },
    {
      "cell_type": "code",
      "source": [
        "print(f'TEST ACC GB ==> {grad_boost.score(x_test, y_test)}')"
      ],
      "metadata": {
        "colab": {
          "base_uri": "https://localhost:8080/"
        },
        "id": "YeJ1tDcRCLq2",
        "outputId": "eae72467-53e5-4ff9-a23f-ce00955900ed"
      },
      "execution_count": 56,
      "outputs": [
        {
          "output_type": "stream",
          "name": "stdout",
          "text": [
            "TEST ACC GB ==> 0.7306273062730627\n"
          ]
        }
      ]
    },
    {
      "cell_type": "code",
      "source": [
        "grad_boost_param = {\n",
        "                    \n",
        "                    'learning_rate': [0.1, 0.01],\n",
        "                    'n_estimators': [10, 300],\n",
        "                    'max_depth': [3, 50] }"
      ],
      "metadata": {
        "id": "JZxIt1nxDUaC"
      },
      "execution_count": 57,
      "outputs": []
    },
    {
      "cell_type": "code",
      "source": [
        "grid_grad_boost_8 = GridSearchCV(GradientBoostingClassifier(), grad_boost_param, cv=8) #  algoihm fitted grid\n",
        "start = time() # For working time and tested by cv=8\n",
        "grid_grad_boost_8.fit(x_train, y_train)\n",
        "print(f'TIME FOR CV=8 ==> {time() - start}')\n",
        "print(f'BEST PARAMS FOR GRID GRAD BOOST CV = 8 ==> {grid_grad_boost_8.best_params_}')\n",
        "print(f'TEST ACC GRID GRAD BOOST CV = 8 ==> {grid_grad_boost_8.score(x_test, y_test)}')"
      ],
      "metadata": {
        "colab": {
          "base_uri": "https://localhost:8080/"
        },
        "id": "JkuAWgVVDpTq",
        "outputId": "b9b7c516-0ff7-496f-c149-a6a5feb67bda"
      },
      "execution_count": 63,
      "outputs": [
        {
          "output_type": "stream",
          "name": "stdout",
          "text": [
            "TIME FOR CV=5 ==> 101.67319250106812\n",
            "BEST PARAMS FOR GRID GRAD BOOST CV = 5 ==> {'learning_rate': 0.01, 'max_depth': 3, 'n_estimators': 300}\n",
            "TEST ACC GRID GRAD BOOST CV = 5 ==> 0.7343173431734318\n"
          ]
        }
      ]
    },
    {
      "cell_type": "markdown",
      "source": [
        "As seen above i used hyper optimization parameters for model to get best score"
      ],
      "metadata": {
        "id": "T5WF-Fx4ImSd"
      }
    },
    {
      "cell_type": "code",
      "source": [
        "from sklearn.metrics import accuracy_score  # for testing our optimized model's efficency"
      ],
      "metadata": {
        "id": "dLlVa4QYEh9p"
      },
      "execution_count": 60,
      "outputs": []
    },
    {
      "cell_type": "code",
      "source": [
        "sample = grid_grad_boost_8\n",
        "sample.fit(x_train,y_train)"
      ],
      "metadata": {
        "colab": {
          "base_uri": "https://localhost:8080/"
        },
        "id": "RSJg-sVFEvU7",
        "outputId": "c7f555fa-77c0-44c0-8106-8f4279dff20c"
      },
      "execution_count": 64,
      "outputs": [
        {
          "output_type": "execute_result",
          "data": {
            "text/plain": [
              "GridSearchCV(cv=8, estimator=GradientBoostingClassifier(),\n",
              "             param_grid={'learning_rate': [0.1, 0.01], 'max_depth': [3, 50],\n",
              "                         'n_estimators': [10, 300]})"
            ]
          },
          "metadata": {},
          "execution_count": 64
        }
      ]
    },
    {
      "cell_type": "code",
      "source": [
        "y_sample = sample.predict(x_test)                                                          \n",
        "accuracy=(accuracy_score(y_test, y_sample))                        \n",
        "\n",
        "a=pd.DataFrame([accuracy]);\n",
        "b=a.max()\n",
        "\n",
        "print('The Max Value:',b);"
      ],
      "metadata": {
        "colab": {
          "base_uri": "https://localhost:8080/"
        },
        "id": "u4lJL62uGcUx",
        "outputId": "6ae98c15-ba7c-417b-90b1-e7de9b420afa"
      },
      "execution_count": 65,
      "outputs": [
        {
          "output_type": "stream",
          "name": "stdout",
          "text": [
            "The Max Value: 0    0.734317\n",
            "dtype: float64\n"
          ]
        }
      ]
    },
    {
      "cell_type": "code",
      "source": [
        "from sklearn.metrics import classification_report , confusion_matrix"
      ],
      "metadata": {
        "id": "bz-f-VNhHGY3"
      },
      "execution_count": 83,
      "outputs": []
    },
    {
      "cell_type": "code",
      "source": [
        "class_names = ['class 0', 'class 1', 'class 2' , 'class 3']"
      ],
      "metadata": {
        "id": "O4Szh-mCReJc"
      },
      "execution_count": 90,
      "outputs": []
    },
    {
      "cell_type": "code",
      "source": [
        "print(classification_report(y_sample, y_test, target_names=class_names))\n",
        "\n"
      ],
      "metadata": {
        "colab": {
          "base_uri": "https://localhost:8080/"
        },
        "id": "WoUrSlFERLax",
        "outputId": "6e82d972-ff5d-446b-9094-263c3221c39b"
      },
      "execution_count": 98,
      "outputs": [
        {
          "output_type": "stream",
          "name": "stdout",
          "text": [
            "              precision    recall  f1-score   support\n",
            "\n",
            "     class 0       0.94      0.76      0.84       160\n",
            "     class 1       0.57      0.71      0.63        79\n",
            "     class 2       0.55      0.67      0.60        27\n",
            "     class 3       0.40      0.80      0.53         5\n",
            "\n",
            "    accuracy                           0.73       271\n",
            "   macro avg       0.61      0.73      0.65       271\n",
            "weighted avg       0.78      0.73      0.75       271\n",
            "\n"
          ]
        }
      ]
    },
    {
      "cell_type": "code",
      "source": [
        "print(confusion_matrix(y_sample, y_test))"
      ],
      "metadata": {
        "colab": {
          "base_uri": "https://localhost:8080/"
        },
        "id": "o_z-tf2ZR9AA",
        "outputId": "02a6df69-1586-49ff-c7fa-4e584e29e027"
      },
      "execution_count": 100,
      "outputs": [
        {
          "output_type": "stream",
          "name": "stdout",
          "text": [
            "[[121  38   1   0]\n",
            " [  8  56  13   2]\n",
            " [  0   5  18   4]\n",
            " [  0   0   1   4]]\n"
          ]
        }
      ]
    }
  ],
  "metadata": {
    "kernelspec": {
      "display_name": "Python 3",
      "language": "python",
      "name": "python3"
    },
    "language_info": {
      "codemirror_mode": {
        "name": "ipython",
        "version": 2
      },
      "file_extension": ".py",
      "mimetype": "text/x-python",
      "name": "python",
      "nbconvert_exporter": "python",
      "pygments_lexer": "ipython2",
      "version": "2.7.6"
    },
    "colab": {
      "provenance": [],
      "collapsed_sections": [],
      "include_colab_link": true
    }
  },
  "nbformat": 4,
  "nbformat_minor": 0
}